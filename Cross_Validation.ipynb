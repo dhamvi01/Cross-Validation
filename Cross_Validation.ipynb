{
  "nbformat": 4,
  "nbformat_minor": 0,
  "metadata": {
    "colab": {
      "name": "Cross Validation.ipynb",
      "provenance": [],
      "include_colab_link": true
    },
    "kernelspec": {
      "name": "python3",
      "display_name": "Python 3"
    }
  },
  "cells": [
    {
      "cell_type": "markdown",
      "metadata": {
        "id": "view-in-github",
        "colab_type": "text"
      },
      "source": [
        "<a href=\"https://colab.research.google.com/github/dhamvi01/Cross-Validation/blob/master/Cross_Validation.ipynb\" target=\"_parent\"><img src=\"https://colab.research.google.com/assets/colab-badge.svg\" alt=\"Open In Colab\"/></a>"
      ]
    },
    {
      "cell_type": "markdown",
      "metadata": {
        "id": "egIBl2zPiSt0",
        "colab_type": "text"
      },
      "source": [
        "## 1. Import Libraries"
      ]
    },
    {
      "cell_type": "code",
      "metadata": {
        "id": "2xYZUQFTgrP0",
        "colab_type": "code",
        "colab": {}
      },
      "source": [
        "import pandas as pd\n",
        "from sklearn import datasets, linear_model\n",
        "from sklearn.model_selection import train_test_split\n",
        "import matplotlib.pyplot as plt"
      ],
      "execution_count": 0,
      "outputs": []
    },
    {
      "cell_type": "markdown",
      "metadata": {
        "id": "lRFPO9iYicpI",
        "colab_type": "text"
      },
      "source": [
        "## 2. Import data and train test split"
      ]
    },
    {
      "cell_type": "code",
      "metadata": {
        "id": "5eUdpCdQhWwc",
        "colab_type": "code",
        "colab": {}
      },
      "source": [
        "diabetes = datasets.load_diabetes() # load diabeted dataset \n",
        "x = diabetes.data\n",
        "y = diabetes.target"
      ],
      "execution_count": 0,
      "outputs": []
    },
    {
      "cell_type": "code",
      "metadata": {
        "id": "UOvl9kpdhpte",
        "colab_type": "code",
        "colab": {
          "base_uri": "https://localhost:8080/",
          "height": 50
        },
        "outputId": "15edb67a-fb9d-45fc-a1cb-87f05ff8d048"
      },
      "source": [
        "x_train, x_test, y_train, y_test = train_test_split(x,y, test_size=0.2)\n",
        "\n",
        "print(x_train.shape)\n",
        "print(x_test.shape)"
      ],
      "execution_count": 20,
      "outputs": [
        {
          "output_type": "stream",
          "text": [
            "(353, 10)\n",
            "(89, 10)\n"
          ],
          "name": "stdout"
        }
      ]
    },
    {
      "cell_type": "markdown",
      "metadata": {
        "id": "OSiS6FLsij2V",
        "colab_type": "text"
      },
      "source": [
        "## 3. Model Building"
      ]
    },
    {
      "cell_type": "code",
      "metadata": {
        "id": "ZPEdWTFQhsDP",
        "colab_type": "code",
        "colab": {}
      },
      "source": [
        "model = linear_model.LinearRegression()\n",
        "model.fit(x_train, y_train)\n",
        "pred = model.predict(x_test)"
      ],
      "execution_count": 0,
      "outputs": []
    },
    {
      "cell_type": "markdown",
      "metadata": {
        "id": "dAaY2YN_iqIN",
        "colab_type": "text"
      },
      "source": [
        "## 4. Model validation"
      ]
    },
    {
      "cell_type": "code",
      "metadata": {
        "id": "tbXGUYaKirqs",
        "colab_type": "code",
        "colab": {
          "base_uri": "https://localhost:8080/",
          "height": 296
        },
        "outputId": "f7636427-316e-473f-8996-78c52c487a4e"
      },
      "source": [
        "plt.scatter(y_test,pred)\n",
        "plt.xlabel('True Values')\n",
        "plt.ylabel('Pred Value')"
      ],
      "execution_count": 22,
      "outputs": [
        {
          "output_type": "execute_result",
          "data": {
            "text/plain": [
              "Text(0, 0.5, 'Pred Value')"
            ]
          },
          "metadata": {
            "tags": []
          },
          "execution_count": 22
        },
        {
          "output_type": "display_data",
          "data": {
            "image/png": "[encoded data removed]",
            "text/plain": [
              "<Figure size 432x288 with 1 Axes>"
            ]
          },
          "metadata": {
            "tags": []
          }
        }
      ]
    },
    {
      "cell_type": "code",
      "metadata": {
        "id": "kAH5haHPi4I9",
        "colab_type": "code",
        "colab": {
          "base_uri": "https://localhost:8080/",
          "height": 34
        },
        "outputId": "8ffe48ec-4485-43f7-cfcd-d26ceb0b0a3f"
      },
      "source": [
        "print(\"Score\", model.score(x_test, y_test))"
      ],
      "execution_count": 23,
      "outputs": [
        {
          "output_type": "stream",
          "text": [
            "Score 0.3664213123954898\n"
          ],
          "name": "stdout"
        }
      ]
    },
    {
      "cell_type": "markdown",
      "metadata": {
        "id": "vPB85bw2i_5y",
        "colab_type": "text"
      },
      "source": [
        "## 5. KFold Example"
      ]
    },
    {
      "cell_type": "code",
      "metadata": {
        "id": "Jt3HDZzUjCBD",
        "colab_type": "code",
        "colab": {
          "base_uri": "https://localhost:8080/",
          "height": 34
        },
        "outputId": "d764970b-82c0-4298-c0c4-37593e2a18fc"
      },
      "source": [
        "from sklearn.model_selection import KFold\n",
        "import numpy as np\n",
        "p = np.array([[1,2], [3,4], [1,2], [3,4]])\n",
        "q = np.array([1,2,3,4])\n",
        "kf = KFold(n_splits=2)\n",
        "kf.get_n_splits(p)\n",
        "print(kf)"
      ],
      "execution_count": 24,
      "outputs": [
        {
          "output_type": "stream",
          "text": [
            "KFold(n_splits=2, random_state=None, shuffle=False)\n"
          ],
          "name": "stdout"
        }
      ]
    },
    {
      "cell_type": "code",
      "metadata": {
        "id": "go0B6OV4jj8a",
        "colab_type": "code",
        "colab": {
          "base_uri": "https://localhost:8080/",
          "height": 50
        },
        "outputId": "770ba1c2-bb6f-487a-9d68-999d8a49fa33"
      },
      "source": [
        "for i,j in kf.split(p):\n",
        "  print('Train:' ,i,\"Test:\",j)"
      ],
      "execution_count": 25,
      "outputs": [
        {
          "output_type": "stream",
          "text": [
            "Train: [2 3] Test: [0 1]\n",
            "Train: [0 1] Test: [2 3]\n"
          ],
          "name": "stdout"
        }
      ]
    },
    {
      "cell_type": "markdown",
      "metadata": {
        "id": "O7qID7D4k0XP",
        "colab_type": "text"
      },
      "source": [
        "As you can see, KFold is splitting the data into different subset, It's very simple"
      ]
    },
    {
      "cell_type": "markdown",
      "metadata": {
        "id": "gsfY2horlQUZ",
        "colab_type": "text"
      },
      "source": [
        "## 6. KFold with Our Model"
      ]
    },
    {
      "cell_type": "code",
      "metadata": {
        "id": "9nFS8ECQks0x",
        "colab_type": "code",
        "colab": {}
      },
      "source": [
        "from sklearn.model_selection import cross_val_score, cross_val_predict\n",
        "from sklearn import metrics"
      ],
      "execution_count": 0,
      "outputs": []
    },
    {
      "cell_type": "code",
      "metadata": {
        "id": "Gl85duUjloPN",
        "colab_type": "code",
        "colab": {
          "base_uri": "https://localhost:8080/",
          "height": 34
        },
        "outputId": "0c1fe697-78b7-46bc-90d7-810976a8ec06"
      },
      "source": [
        "score = cross_val_score(model,x,y,cv=6)\n",
        "print('Cross val score', score)"
      ],
      "execution_count": 29,
      "outputs": [
        {
          "output_type": "stream",
          "text": [
            "Cross val score [0.4554861  0.46138572 0.40094084 0.55220736 0.43942775 0.56923406]\n"
          ],
          "name": "stdout"
        }
      ]
    },
    {
      "cell_type": "markdown",
      "metadata": {
        "id": "nPnVVE4yGn-_",
        "colab_type": "text"
      },
      "source": [
        "## 7. Cross val performance check"
      ]
    },
    {
      "cell_type": "code",
      "metadata": {
        "id": "25Y3YRDdGQOM",
        "colab_type": "code",
        "colab": {
          "base_uri": "https://localhost:8080/",
          "height": 282
        },
        "outputId": "b49a8ee1-e3e3-409c-edd9-ca59dc019180"
      },
      "source": [
        "pred = cross_val_predict(model,x,y,cv=6)\n",
        "plt.scatter(y,pred)"
      ],
      "execution_count": 30,
      "outputs": [
        {
          "output_type": "execute_result",
          "data": {
            "text/plain": [
              "<matplotlib.collections.PathCollection at 0x7eff9bb7cb00>"
            ]
          },
          "metadata": {
            "tags": []
          },
          "execution_count": 30
        },
        {
          "output_type": "display_data",
          "data": {
            "image/png": "[encoded data removed]",
            "text/plain": [
              "<Figure size 432x288 with 1 Axes>"
            ]
          },
          "metadata": {
            "tags": []
          }
        }
      ]
    },
    {
      "cell_type": "code",
      "metadata": {
        "id": "DUMc6usjG5Aj",
        "colab_type": "code",
        "colab": {
          "base_uri": "https://localhost:8080/",
          "height": 34
        },
        "outputId": "bb6aadbc-7444-47fa-d07d-7244a3fa9e5b"
      },
      "source": [
        "accuracy = metrics.r2_score(y,pred)\n",
        "print(\"Cross Val accuracy:\",accuracy)"
      ],
      "execution_count": 31,
      "outputs": [
        {
          "output_type": "stream",
          "text": [
            "Cross Val accuracy: 0.4908065838640776\n"
          ],
          "name": "stdout"
        }
      ]
    },
    {
      "cell_type": "markdown",
      "metadata": {
        "id": "cuKDWTPFJe7j",
        "colab_type": "text"
      },
      "source": [
        "As shown, Cross validation provides true model accuracy using different data splits, When you have small data sample size rather than splitting train,valid and test split use KFold cross validation.\n",
        "\n",
        "Cross validation potentially uses to avoid model overfitting, At the end you get true model accuracy"
      ]
    }
  ]
}